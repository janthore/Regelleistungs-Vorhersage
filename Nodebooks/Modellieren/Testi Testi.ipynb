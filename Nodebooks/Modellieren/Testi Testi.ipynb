{
 "cells": [
  {
   "cell_type": "code",
   "id": "initial_id",
   "metadata": {
    "collapsed": true,
    "ExecuteTime": {
     "end_time": "2025-07-01T19:09:32.589515Z",
     "start_time": "2025-07-01T19:09:14.549295Z"
    }
   },
   "source": [
    "import pickle\n",
    "\n",
    "with open(r\"C:\\Users\\janth\\OneDrive\\Desktop\\Studium\\Bachelorarbeit\\Regelleistungs Vorhersage\\Nodebooks\\Modellieren\\final_bart_trees.pkl\", \"rb\") as f:\n",
    "    trees = pickle.load(f)\n",
    "\n",
    "print(f\"Anzahl Chains: {len(trees)}\")\n",
    "print(f\"Trees pro Chain: {len(trees[0])}\")\n",
    "print(f\"Typ des ersten Trees: {type(trees[0][0])}\")"
   ],
   "outputs": [
    {
     "name": "stdout",
     "output_type": "stream",
     "text": [
      "Anzahl Chains: 4000\n",
      "Trees pro Chain: 1\n",
      "Typ des ersten Trees: <class 'numpy.ndarray'>\n"
     ]
    }
   ],
   "execution_count": 2
  },
  {
   "metadata": {
    "ExecuteTime": {
     "end_time": "2025-07-01T19:08:57.396455Z",
     "start_time": "2025-07-01T19:08:56.839018Z"
    }
   },
   "cell_type": "code",
   "source": [
    "from collections import Counter\n",
    "\n",
    "feature_counter = Counter()\n",
    "\n",
    "# Iteriere über alle Posterior-Samples\n",
    "for sample in trees:\n",
    "    # sample ist ein ndarray von Tree-Objekten (z. B. shape (1, 50))\n",
    "    flat_trees = sample.flatten()\n",
    "    for tree in flat_trees:\n",
    "        used_features = tree.get_split_variables()\n",
    "        feature_counter.update(used_features)\n",
    "\n",
    "# Ausgabe nach Häufigkeit\n",
    "for feature_idx, count in feature_counter.most_common():\n",
    "    print(f\"Feature {feature_idx}: {count} Splits\")\n"
   ],
   "id": "aeda9f76221a0b7d",
   "outputs": [
    {
     "ename": "NameError",
     "evalue": "name 'trees' is not defined",
     "output_type": "error",
     "traceback": [
      "\u001B[1;31m---------------------------------------------------------------------------\u001B[0m",
      "\u001B[1;31mNameError\u001B[0m                                 Traceback (most recent call last)",
      "Cell \u001B[1;32mIn[1], line 6\u001B[0m\n\u001B[0;32m      3\u001B[0m feature_counter \u001B[38;5;241m=\u001B[39m Counter()\n\u001B[0;32m      5\u001B[0m \u001B[38;5;66;03m# Iteriere über alle Posterior-Samples\u001B[39;00m\n\u001B[1;32m----> 6\u001B[0m \u001B[38;5;28;01mfor\u001B[39;00m sample \u001B[38;5;129;01min\u001B[39;00m \u001B[43mtrees\u001B[49m:\n\u001B[0;32m      7\u001B[0m     \u001B[38;5;66;03m# sample ist ein ndarray von Tree-Objekten (z. B. shape (1, 50))\u001B[39;00m\n\u001B[0;32m      8\u001B[0m     flat_trees \u001B[38;5;241m=\u001B[39m sample\u001B[38;5;241m.\u001B[39mflatten()\n\u001B[0;32m      9\u001B[0m     \u001B[38;5;28;01mfor\u001B[39;00m tree \u001B[38;5;129;01min\u001B[39;00m flat_trees:\n",
      "\u001B[1;31mNameError\u001B[0m: name 'trees' is not defined"
     ]
    }
   ],
   "execution_count": 1
  }
 ],
 "metadata": {
  "kernelspec": {
   "display_name": "Python 3",
   "language": "python",
   "name": "python3"
  },
  "language_info": {
   "codemirror_mode": {
    "name": "ipython",
    "version": 2
   },
   "file_extension": ".py",
   "mimetype": "text/x-python",
   "name": "python",
   "nbconvert_exporter": "python",
   "pygments_lexer": "ipython2",
   "version": "2.7.6"
  }
 },
 "nbformat": 4,
 "nbformat_minor": 5
}
