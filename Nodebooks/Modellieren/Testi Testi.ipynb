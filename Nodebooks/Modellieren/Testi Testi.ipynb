{
 "cells": [
  {
   "cell_type": "code",
   "id": "initial_id",
   "metadata": {
    "collapsed": true,
    "ExecuteTime": {
     "end_time": "2025-07-01T08:57:28.092024Z",
     "start_time": "2025-07-01T08:57:28.033653Z"
    }
   },
   "source": [
    "import pickle\n",
    "\n",
    "with open(r\"C:\\Users\\janth\\OneDrive\\Desktop\\Studium\\Bachelorarbeit\\Regelleistungs Vorhersage\\Nodebooks\\Modellieren\\final_bart_trees.pkl\", \"rb\") as f:\n",
    "    trees = pickle.load(f)\n",
    "\n",
    "print(f\"Anzahl Chains: {len(trees)}\")\n",
    "print(f\"Trees pro Chain: {len(trees[0])}\")\n",
    "print(f\"Typ des ersten Trees: {type(trees[0][0])}\")"
   ],
   "outputs": [
    {
     "ename": "FileNotFoundError",
     "evalue": "[WinError 2] Das System kann die angegebene Datei nicht finden",
     "output_type": "error",
     "traceback": [
      "\u001B[1;31m---------------------------------------------------------------------------\u001B[0m",
      "\u001B[1;31mFileNotFoundError\u001B[0m                         Traceback (most recent call last)",
      "Cell \u001B[1;32mIn[105], line 4\u001B[0m\n\u001B[0;32m      1\u001B[0m \u001B[38;5;28;01mimport\u001B[39;00m \u001B[38;5;21;01mpickle\u001B[39;00m\n\u001B[0;32m      3\u001B[0m \u001B[38;5;28;01mwith\u001B[39;00m \u001B[38;5;28mopen\u001B[39m(\u001B[38;5;124mr\u001B[39m\u001B[38;5;124m\"\u001B[39m\u001B[38;5;124mC:\u001B[39m\u001B[38;5;124m\\\u001B[39m\u001B[38;5;124mUsers\u001B[39m\u001B[38;5;124m\\\u001B[39m\u001B[38;5;124mjanth\u001B[39m\u001B[38;5;124m\\\u001B[39m\u001B[38;5;124mOneDrive\u001B[39m\u001B[38;5;124m\\\u001B[39m\u001B[38;5;124mDesktop\u001B[39m\u001B[38;5;124m\\\u001B[39m\u001B[38;5;124mStudium\u001B[39m\u001B[38;5;124m\\\u001B[39m\u001B[38;5;124mBachelorarbeit\u001B[39m\u001B[38;5;124m\\\u001B[39m\u001B[38;5;124mRegelleistungs Vorhersage\u001B[39m\u001B[38;5;124m\\\u001B[39m\u001B[38;5;124mNodebooks\u001B[39m\u001B[38;5;124m\\\u001B[39m\u001B[38;5;124mModellieren\u001B[39m\u001B[38;5;124m\\\u001B[39m\u001B[38;5;124mfinal_bart_trees.pkl\u001B[39m\u001B[38;5;124m\"\u001B[39m, \u001B[38;5;124m\"\u001B[39m\u001B[38;5;124mrb\u001B[39m\u001B[38;5;124m\"\u001B[39m) \u001B[38;5;28;01mas\u001B[39;00m f:\n\u001B[1;32m----> 4\u001B[0m     trees \u001B[38;5;241m=\u001B[39m \u001B[43mpickle\u001B[49m\u001B[38;5;241;43m.\u001B[39;49m\u001B[43mload\u001B[49m\u001B[43m(\u001B[49m\u001B[43mf\u001B[49m\u001B[43m)\u001B[49m\n\u001B[0;32m      6\u001B[0m \u001B[38;5;28mprint\u001B[39m(\u001B[38;5;124mf\u001B[39m\u001B[38;5;124m\"\u001B[39m\u001B[38;5;124mAnzahl Chains: \u001B[39m\u001B[38;5;132;01m{\u001B[39;00m\u001B[38;5;28mlen\u001B[39m(trees)\u001B[38;5;132;01m}\u001B[39;00m\u001B[38;5;124m\"\u001B[39m)\n\u001B[0;32m      7\u001B[0m \u001B[38;5;28mprint\u001B[39m(\u001B[38;5;124mf\u001B[39m\u001B[38;5;124m\"\u001B[39m\u001B[38;5;124mTrees pro Chain: \u001B[39m\u001B[38;5;132;01m{\u001B[39;00m\u001B[38;5;28mlen\u001B[39m(trees[\u001B[38;5;241m0\u001B[39m])\u001B[38;5;132;01m}\u001B[39;00m\u001B[38;5;124m\"\u001B[39m)\n",
      "File \u001B[1;32mC:\\Program Files\\WindowsApps\\PythonSoftwareFoundation.Python.3.11_3.11.2544.0_x64__qbz5n2kfra8p0\\Lib\\multiprocessing\\managers.py:946\u001B[0m, in \u001B[0;36mRebuildProxy\u001B[1;34m(func, token, serializer, kwds)\u001B[0m\n\u001B[0;32m    940\u001B[0m         server\u001B[38;5;241m.\u001B[39mid_to_local_proxy_obj[token\u001B[38;5;241m.\u001B[39mid] \u001B[38;5;241m=\u001B[39m \\\n\u001B[0;32m    941\u001B[0m             server\u001B[38;5;241m.\u001B[39mid_to_obj[token\u001B[38;5;241m.\u001B[39mid]\n\u001B[0;32m    942\u001B[0m incref \u001B[38;5;241m=\u001B[39m (\n\u001B[0;32m    943\u001B[0m     kwds\u001B[38;5;241m.\u001B[39mpop(\u001B[38;5;124m'\u001B[39m\u001B[38;5;124mincref\u001B[39m\u001B[38;5;124m'\u001B[39m, \u001B[38;5;28;01mTrue\u001B[39;00m) \u001B[38;5;129;01mand\u001B[39;00m\n\u001B[0;32m    944\u001B[0m     \u001B[38;5;129;01mnot\u001B[39;00m \u001B[38;5;28mgetattr\u001B[39m(process\u001B[38;5;241m.\u001B[39mcurrent_process(), \u001B[38;5;124m'\u001B[39m\u001B[38;5;124m_inheriting\u001B[39m\u001B[38;5;124m'\u001B[39m, \u001B[38;5;28;01mFalse\u001B[39;00m)\n\u001B[0;32m    945\u001B[0m     )\n\u001B[1;32m--> 946\u001B[0m \u001B[38;5;28;01mreturn\u001B[39;00m \u001B[43mfunc\u001B[49m\u001B[43m(\u001B[49m\u001B[43mtoken\u001B[49m\u001B[43m,\u001B[49m\u001B[43m \u001B[49m\u001B[43mserializer\u001B[49m\u001B[43m,\u001B[49m\u001B[43m \u001B[49m\u001B[43mincref\u001B[49m\u001B[38;5;241;43m=\u001B[39;49m\u001B[43mincref\u001B[49m\u001B[43m,\u001B[49m\u001B[43m \u001B[49m\u001B[38;5;241;43m*\u001B[39;49m\u001B[38;5;241;43m*\u001B[39;49m\u001B[43mkwds\u001B[49m\u001B[43m)\u001B[49m\n",
      "File \u001B[1;32mC:\\Program Files\\WindowsApps\\PythonSoftwareFoundation.Python.3.11_3.11.2544.0_x64__qbz5n2kfra8p0\\Lib\\multiprocessing\\managers.py:796\u001B[0m, in \u001B[0;36mBaseProxy.__init__\u001B[1;34m(self, token, serializer, manager, authkey, exposed, incref, manager_owned)\u001B[0m\n\u001B[0;32m    793\u001B[0m     \u001B[38;5;28mself\u001B[39m\u001B[38;5;241m.\u001B[39m_authkey \u001B[38;5;241m=\u001B[39m process\u001B[38;5;241m.\u001B[39mcurrent_process()\u001B[38;5;241m.\u001B[39mauthkey\n\u001B[0;32m    795\u001B[0m \u001B[38;5;28;01mif\u001B[39;00m incref:\n\u001B[1;32m--> 796\u001B[0m     \u001B[38;5;28;43mself\u001B[39;49m\u001B[38;5;241;43m.\u001B[39;49m\u001B[43m_incref\u001B[49m\u001B[43m(\u001B[49m\u001B[43m)\u001B[49m\n\u001B[0;32m    798\u001B[0m util\u001B[38;5;241m.\u001B[39mregister_after_fork(\u001B[38;5;28mself\u001B[39m, BaseProxy\u001B[38;5;241m.\u001B[39m_after_fork)\n",
      "File \u001B[1;32mC:\\Program Files\\WindowsApps\\PythonSoftwareFoundation.Python.3.11_3.11.2544.0_x64__qbz5n2kfra8p0\\Lib\\multiprocessing\\managers.py:850\u001B[0m, in \u001B[0;36mBaseProxy._incref\u001B[1;34m(self)\u001B[0m\n\u001B[0;32m    847\u001B[0m     util\u001B[38;5;241m.\u001B[39mdebug(\u001B[38;5;124m'\u001B[39m\u001B[38;5;124mowned_by_manager skipped INCREF of \u001B[39m\u001B[38;5;132;01m%r\u001B[39;00m\u001B[38;5;124m'\u001B[39m, \u001B[38;5;28mself\u001B[39m\u001B[38;5;241m.\u001B[39m_token\u001B[38;5;241m.\u001B[39mid)\n\u001B[0;32m    848\u001B[0m     \u001B[38;5;28;01mreturn\u001B[39;00m\n\u001B[1;32m--> 850\u001B[0m conn \u001B[38;5;241m=\u001B[39m \u001B[38;5;28;43mself\u001B[39;49m\u001B[38;5;241;43m.\u001B[39;49m\u001B[43m_Client\u001B[49m\u001B[43m(\u001B[49m\u001B[38;5;28;43mself\u001B[39;49m\u001B[38;5;241;43m.\u001B[39;49m\u001B[43m_token\u001B[49m\u001B[38;5;241;43m.\u001B[39;49m\u001B[43maddress\u001B[49m\u001B[43m,\u001B[49m\u001B[43m \u001B[49m\u001B[43mauthkey\u001B[49m\u001B[38;5;241;43m=\u001B[39;49m\u001B[38;5;28;43mself\u001B[39;49m\u001B[38;5;241;43m.\u001B[39;49m\u001B[43m_authkey\u001B[49m\u001B[43m)\u001B[49m\n\u001B[0;32m    851\u001B[0m dispatch(conn, \u001B[38;5;28;01mNone\u001B[39;00m, \u001B[38;5;124m'\u001B[39m\u001B[38;5;124mincref\u001B[39m\u001B[38;5;124m'\u001B[39m, (\u001B[38;5;28mself\u001B[39m\u001B[38;5;241m.\u001B[39m_id,))\n\u001B[0;32m    852\u001B[0m util\u001B[38;5;241m.\u001B[39mdebug(\u001B[38;5;124m'\u001B[39m\u001B[38;5;124mINCREF \u001B[39m\u001B[38;5;132;01m%r\u001B[39;00m\u001B[38;5;124m'\u001B[39m, \u001B[38;5;28mself\u001B[39m\u001B[38;5;241m.\u001B[39m_token\u001B[38;5;241m.\u001B[39mid)\n",
      "File \u001B[1;32mC:\\Program Files\\WindowsApps\\PythonSoftwareFoundation.Python.3.11_3.11.2544.0_x64__qbz5n2kfra8p0\\Lib\\multiprocessing\\connection.py:517\u001B[0m, in \u001B[0;36mClient\u001B[1;34m(address, family, authkey)\u001B[0m\n\u001B[0;32m    515\u001B[0m _validate_family(family)\n\u001B[0;32m    516\u001B[0m \u001B[38;5;28;01mif\u001B[39;00m family \u001B[38;5;241m==\u001B[39m \u001B[38;5;124m'\u001B[39m\u001B[38;5;124mAF_PIPE\u001B[39m\u001B[38;5;124m'\u001B[39m:\n\u001B[1;32m--> 517\u001B[0m     c \u001B[38;5;241m=\u001B[39m \u001B[43mPipeClient\u001B[49m\u001B[43m(\u001B[49m\u001B[43maddress\u001B[49m\u001B[43m)\u001B[49m\n\u001B[0;32m    518\u001B[0m \u001B[38;5;28;01melse\u001B[39;00m:\n\u001B[0;32m    519\u001B[0m     c \u001B[38;5;241m=\u001B[39m SocketClient(address)\n",
      "File \u001B[1;32mC:\\Program Files\\WindowsApps\\PythonSoftwareFoundation.Python.3.11_3.11.2544.0_x64__qbz5n2kfra8p0\\Lib\\multiprocessing\\connection.py:719\u001B[0m, in \u001B[0;36mPipeClient\u001B[1;34m(address)\u001B[0m\n\u001B[0;32m    717\u001B[0m \u001B[38;5;28;01mwhile\u001B[39;00m \u001B[38;5;241m1\u001B[39m:\n\u001B[0;32m    718\u001B[0m     \u001B[38;5;28;01mtry\u001B[39;00m:\n\u001B[1;32m--> 719\u001B[0m         _winapi\u001B[38;5;241m.\u001B[39mWaitNamedPipe(address, \u001B[38;5;241m1000\u001B[39m)\n\u001B[0;32m    720\u001B[0m         h \u001B[38;5;241m=\u001B[39m _winapi\u001B[38;5;241m.\u001B[39mCreateFile(\n\u001B[0;32m    721\u001B[0m             address, _winapi\u001B[38;5;241m.\u001B[39mGENERIC_READ \u001B[38;5;241m|\u001B[39m _winapi\u001B[38;5;241m.\u001B[39mGENERIC_WRITE,\n\u001B[0;32m    722\u001B[0m             \u001B[38;5;241m0\u001B[39m, _winapi\u001B[38;5;241m.\u001B[39mNULL, _winapi\u001B[38;5;241m.\u001B[39mOPEN_EXISTING,\n\u001B[0;32m    723\u001B[0m             _winapi\u001B[38;5;241m.\u001B[39mFILE_FLAG_OVERLAPPED, _winapi\u001B[38;5;241m.\u001B[39mNULL\n\u001B[0;32m    724\u001B[0m             )\n\u001B[0;32m    725\u001B[0m     \u001B[38;5;28;01mexcept\u001B[39;00m \u001B[38;5;167;01mOSError\u001B[39;00m \u001B[38;5;28;01mas\u001B[39;00m e:\n",
      "\u001B[1;31mFileNotFoundError\u001B[0m: [WinError 2] Das System kann die angegebene Datei nicht finden"
     ]
    }
   ],
   "execution_count": 105
  }
 ],
 "metadata": {
  "kernelspec": {
   "display_name": "Python 3",
   "language": "python",
   "name": "python3"
  },
  "language_info": {
   "codemirror_mode": {
    "name": "ipython",
    "version": 2
   },
   "file_extension": ".py",
   "mimetype": "text/x-python",
   "name": "python",
   "nbconvert_exporter": "python",
   "pygments_lexer": "ipython2",
   "version": "2.7.6"
  }
 },
 "nbformat": 4,
 "nbformat_minor": 5
}
