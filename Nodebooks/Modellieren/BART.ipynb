{
 "cells": [
  {
   "cell_type": "code",
   "id": "initial_id",
   "metadata": {
    "collapsed": true,
    "ExecuteTime": {
     "end_time": "2025-06-30T19:44:53.709874Z",
     "start_time": "2025-06-30T19:44:45.015522Z"
    }
   },
   "source": [
    "import pandas as pd\n",
    "import numpy as np"
   ],
   "outputs": [],
   "execution_count": 1
  },
  {
   "metadata": {
    "ExecuteTime": {
     "end_time": "2025-06-30T19:47:54.369528Z",
     "start_time": "2025-06-30T19:47:54.349796Z"
    }
   },
   "cell_type": "code",
   "source": [
    "import sys\n",
    "sys.path.append(r\"C:\\Users\\janth\\OneDrive\\Desktop\\Studium\\Bachelorarbeit\\Regelleistungs Vorhersage\\pymc-bart-main\\pymc-bart-main\")\n"
   ],
   "id": "cebe8a2091cdab8b",
   "outputs": [],
   "execution_count": 2
  },
  {
   "metadata": {
    "ExecuteTime": {
     "end_time": "2025-06-30T19:48:22.001963Z",
     "start_time": "2025-06-30T19:48:03.370465Z"
    }
   },
   "cell_type": "code",
   "source": "from pymc_bart.bart import BART\n",
   "id": "b008929d0547ad37",
   "outputs": [
    {
     "name": "stderr",
     "output_type": "stream",
     "text": [
      "WARNING (pytensor.configdefaults): g++ not available, if using conda: `conda install gxx`\n",
      "WARNING (pytensor.configdefaults): g++ not detected!  PyTensor will be unable to compile C-implementations and will default to Python. Performance may be severely degraded. To remove this warning, set PyTensor flags cxx to an empty string.\n"
     ]
    }
   ],
   "execution_count": 3
  },
  {
   "metadata": {
    "jupyter": {
     "is_executing": true
    },
    "ExecuteTime": {
     "start_time": "2025-06-30T19:48:53.210366Z"
    }
   },
   "cell_type": "code",
   "source": [
    "import pymc as pm\n",
    "import numpy as np\n",
    "\n",
    "# Trainingsdaten\n",
    "np.random.seed(42)\n",
    "X = np.random.randn(100, 2)\n",
    "Y = X[:, 0] * 2 + X[:, 1] * -1 + np.random.normal(0, 0.5, 100)\n",
    "\n",
    "# Modell bauen\n",
    "with pm.Model() as model:\n",
    "    μ = BART(\"μ\", X=X, Y=Y, m=50)\n",
    "    σ = pm.HalfNormal(\"σ\", 1)\n",
    "    y_obs = pm.Normal(\"y_obs\", mu=μ, sigma=σ, observed=Y)\n",
    "\n",
    "    trace = pm.sample(1000, chains=2, tune=1000, target_accept=0.9)\n"
   ],
   "id": "b8f845cc2c1b39aa",
   "outputs": [
    {
     "name": "stderr",
     "output_type": "stream",
     "text": [
      "Multiprocess sampling (2 chains in 2 jobs)\n",
      "CompoundStep\n",
      ">PGBART: [μ]\n",
      ">NUTS: [σ]\n"
     ]
    }
   ],
   "execution_count": null
  }
 ],
 "metadata": {
  "kernelspec": {
   "display_name": "Python 3",
   "language": "python",
   "name": "python3"
  },
  "language_info": {
   "codemirror_mode": {
    "name": "ipython",
    "version": 2
   },
   "file_extension": ".py",
   "mimetype": "text/x-python",
   "name": "python",
   "nbconvert_exporter": "python",
   "pygments_lexer": "ipython2",
   "version": "2.7.6"
  }
 },
 "nbformat": 4,
 "nbformat_minor": 5
}
